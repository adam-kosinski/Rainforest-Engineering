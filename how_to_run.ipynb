{
 "cells": [
  {
   "cell_type": "code",
   "execution_count": 1,
   "metadata": {},
   "outputs": [
    {
     "name": "stderr",
     "output_type": "stream",
     "text": [
      "c:\\Users\\duker\\anaconda3\\envs\\plant_id\\lib\\site-packages\\mobile_sam\\modeling\\tiny_vit_sam.py:656: UserWarning: Overwriting tiny_vit_5m_224 in registry with mobile_sam.modeling.tiny_vit_sam.tiny_vit_5m_224. This is because the name being registered conflicts with an existing name. Please check if this is not expected.\n",
      "  return register_model(fn_wrapper)\n",
      "c:\\Users\\duker\\anaconda3\\envs\\plant_id\\lib\\site-packages\\mobile_sam\\modeling\\tiny_vit_sam.py:656: UserWarning: Overwriting tiny_vit_11m_224 in registry with mobile_sam.modeling.tiny_vit_sam.tiny_vit_11m_224. This is because the name being registered conflicts with an existing name. Please check if this is not expected.\n",
      "  return register_model(fn_wrapper)\n",
      "c:\\Users\\duker\\anaconda3\\envs\\plant_id\\lib\\site-packages\\mobile_sam\\modeling\\tiny_vit_sam.py:656: UserWarning: Overwriting tiny_vit_21m_224 in registry with mobile_sam.modeling.tiny_vit_sam.tiny_vit_21m_224. This is because the name being registered conflicts with an existing name. Please check if this is not expected.\n",
      "  return register_model(fn_wrapper)\n",
      "c:\\Users\\duker\\anaconda3\\envs\\plant_id\\lib\\site-packages\\mobile_sam\\modeling\\tiny_vit_sam.py:656: UserWarning: Overwriting tiny_vit_21m_384 in registry with mobile_sam.modeling.tiny_vit_sam.tiny_vit_21m_384. This is because the name being registered conflicts with an existing name. Please check if this is not expected.\n",
      "  return register_model(fn_wrapper)\n",
      "c:\\Users\\duker\\anaconda3\\envs\\plant_id\\lib\\site-packages\\mobile_sam\\modeling\\tiny_vit_sam.py:656: UserWarning: Overwriting tiny_vit_21m_512 in registry with mobile_sam.modeling.tiny_vit_sam.tiny_vit_21m_512. This is because the name being registered conflicts with an existing name. Please check if this is not expected.\n",
      "  return register_model(fn_wrapper)\n"
     ]
    },
    {
     "name": "stdout",
     "output_type": "stream",
     "text": [
      "MobileSAM Loaded\n",
      "CLIP loaded\n",
      "ClipSeg loaded\n",
      "DepthAnything Loaded\n"
     ]
    }
   ],
   "source": [
    "from find_plants import load_models, process_image\n",
    "models = load_models()"
   ]
  },
  {
   "cell_type": "code",
   "execution_count": null,
   "metadata": {},
   "outputs": [],
   "source": [
    "import os\n",
    "\n",
    "# Test images, paths are for the Prostar gaming laptop - google drive is automatically mounted on it\n",
    "\n",
    "directory_path = R\"G:\\.shortcut-targets-by-id\\1BCCfXZq98f4rFOF8m0AweybL4qQakAUB\\Summer Dive 2022\\Monteverde Imagery - Stephanie\\River\\Dry Flight\\100MEDIA\"\n",
    "# image_basename = \"P0870381.JPG\"  # fern, shrub (close-up)\n",
    "# image_basename = \"P0950389.JPG\"  # fern, shrub, star plant (close-up)\n",
    "# image_basename = \"P1070401.JPG\"  # jungly\n",
    "# image_basename = \"P1360430.JPG\"  # shrubs, colorful leaves\n",
    "image_basename = \"P1420437.JPG\"  # epiphyte and shrubs\n",
    "# image_basename = \"P0800374.JPG\"  # vine\n",
    "# image_basename = \"P1480443.JPG\"  # fruit, and forest floor\n",
    "# image_basename = \"P1540449.JPG\"  # stream surrounded by bushes\n",
    "# image_basename = \"P1550450.JPG\"  # fungus on a log and a few plants\n",
    "# image_basename = \"P2110506.JPG\"  # canopy tree with lots of pale pink fruits\n",
    "# image_basename = \"P2330528.JPG\"  # flowers on bush, and sky\n",
    "# image_basename = \"P1240418.JPG\"  # fruits on a tree, high contrast\n",
    "\n",
    "# directory_path = R\"G:\\.shortcut-targets-by-id\\1p3LKK2ES2T3ckR3ELLs2AHvp-pvuRZNn\\Summer Dive 2023\\Drone Photos Videos\\Test Day 1\\XAchilles_Mav\\F3\"\n",
    "# image_basename = \"DJI_0727.JPG\"  # bush with leaves in whorls sort of\n",
    "# image_basename = \"DJI_0753.JPG\"  # big cool tree, palm-ish? takes up most of image\n",
    "\n",
    "# directory_path = R\"C:\\Users\\duker\\Documents\\id_from_image\\durham_test_images\"\n",
    "# image_basename = \"edge_canopy.png\"\n",
    "# image_basename = \"looking_down.png\"\n",
    "# image_basename = \"motion_blur.png\"\n",
    "# image_basename = \"oak_tree.png\"\n",
    "\n",
    "# directory_path = R\"C:\\Users\\duker\\Documents\\id_from_image\\clip_test_images\"\n",
    "# image_basename = \"orange_maple.JPG\"\n",
    "# image_basename = \"zoomed_on_flowers.JPG\"\n",
    "# image_basename = \"sort_of_zoomed_on_flowers.JPG\"\n",
    "\n",
    "# directory_path = R\"C:\\Users\\duker\\Documents\\id_from_image\\canopy_images\"\n",
    "# image_basename = \"P1170257_Trim_Trim_Moment.JPG\"\n",
    "# image_basename = \"P0550057.JPG\"\n",
    "\n",
    "\n",
    "# Process image\n",
    "\n",
    "image_path = os.path.join(directory_path, image_basename)\n",
    "os.makedirs(\"output\", exist_ok=True)\n",
    "bboxes = process_image(image_path, models, show_steps=True, output_json_file=\"output.json\")\n"
   ]
  }
 ],
 "metadata": {
  "kernelspec": {
   "display_name": "plant_id",
   "language": "python",
   "name": "python3"
  },
  "language_info": {
   "codemirror_mode": {
    "name": "ipython",
    "version": 3
   },
   "file_extension": ".py",
   "mimetype": "text/x-python",
   "name": "python",
   "nbconvert_exporter": "python",
   "pygments_lexer": "ipython3",
   "version": "3.10.13"
  }
 },
 "nbformat": 4,
 "nbformat_minor": 2
}
